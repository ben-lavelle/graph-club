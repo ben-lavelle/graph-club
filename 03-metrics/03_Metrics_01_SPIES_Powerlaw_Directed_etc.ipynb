{
 "cells": [
  {
   "cell_type": "code",
   "execution_count": null,
   "metadata": {},
   "outputs": [],
   "source": [
    "%matplotlib inline"
   ]
  },
  {
   "cell_type": "code",
   "execution_count": null,
   "metadata": {},
   "outputs": [],
   "source": [
    "import warnings\n",
    "warnings.filterwarnings(\"ignore\")"
   ]
  },
  {
   "cell_type": "code",
   "execution_count": null,
   "metadata": {},
   "outputs": [],
   "source": [
    "from IPython.display import YouTubeVideo\n",
    "\n",
    "YouTubeVideo(id=\"QjzMFdrVeF4\", width=\"100%\")\n",
    "\n"
   ]
  },
  {
   "cell_type": "code",
   "execution_count": null,
   "metadata": {},
   "outputs": [],
   "source": [
    "\n",
    "import pandas as pd\n"
   ]
  },
  {
   "cell_type": "code",
   "execution_count": null,
   "metadata": {},
   "outputs": [],
   "source": [
    "import networkx as nx"
   ]
  },
  {
   "cell_type": "code",
   "execution_count": null,
   "metadata": {},
   "outputs": [],
   "source": [
    "G = nx.powerlaw_cluster_graph(50, 1, 0.1)"
   ]
  },
  {
   "cell_type": "code",
   "execution_count": null,
   "metadata": {},
   "outputs": [],
   "source": [
    "from email.utils import getaddresses, parseaddr\n",
    "import mailbox\n",
    "\n",
    "def mbox_graph(mboxname):\n",
    "    mbox = mailbox.mbox(mboxname)  # parse unix mailbox\n",
    "\n",
    "    G = nx.MultiDiGraph()  # create empty graph\n",
    "\n",
    "    # parse each messages and build graph\n",
    "    for msg in mbox:  # msg is python email.Message.Message object\n",
    "        (source_name, source_addr) = parseaddr(msg[\"From\"])  # sender\n",
    "        # get all recipients\n",
    "        # see https://docs.python.org/3/library/email.html\n",
    "        tos = msg.get_all(\"to\", [])\n",
    "        ccs = msg.get_all(\"cc\", [])\n",
    "        resent_tos = msg.get_all(\"resent-to\", [])\n",
    "        resent_ccs = msg.get_all(\"resent-cc\", [])\n",
    "        all_recipients = getaddresses(tos + ccs + resent_tos + resent_ccs)\n",
    "        # now add the edges for this mail message\n",
    "        for (target_name, target_addr) in all_recipients:\n",
    "            G.add_edge(source_addr, target_addr, message=msg)\n",
    "\n",
    "    return G\n",
    "\n"
   ]
  },
  {
   "cell_type": "code",
   "execution_count": null,
   "metadata": {},
   "outputs": [],
   "source": [
    "# In order to check a directed Multigraph uncomment the line below\n",
    "# Warning... some of the functions applied in the unconnected graphs arent available (or dont make sense!).expect less functionality available\n",
    "\n",
    "#G = mbox_graph(\"202012.mbox\")"
   ]
  },
  {
   "cell_type": "code",
   "execution_count": null,
   "metadata": {},
   "outputs": [],
   "source": []
  },
  {
   "cell_type": "code",
   "execution_count": null,
   "metadata": {},
   "outputs": [],
   "source": [
    "\n",
    "pos = nx.kamada_kawai_layout(G)\n",
    "nx.draw(G, pos, node_color= [\"black\"],node_size=100)"
   ]
  },
  {
   "cell_type": "code",
   "execution_count": null,
   "metadata": {},
   "outputs": [],
   "source": [
    "from nxviz import MatrixPlot\n",
    "\n",
    "m = MatrixPlot(G)\n",
    "m.draw()"
   ]
  },
  {
   "cell_type": "code",
   "execution_count": null,
   "metadata": {},
   "outputs": [],
   "source": []
  },
  {
   "cell_type": "code",
   "execution_count": null,
   "metadata": {},
   "outputs": [],
   "source": [
    "from nxviz import CircosPlot\n",
    "\n",
    "c = CircosPlot(G,)\n",
    "c.draw()"
   ]
  },
  {
   "cell_type": "code",
   "execution_count": null,
   "metadata": {},
   "outputs": [],
   "source": [
    "nx.number_connected_components(G)"
   ]
  },
  {
   "cell_type": "code",
   "execution_count": null,
   "metadata": {},
   "outputs": [],
   "source": []
  },
  {
   "cell_type": "code",
   "execution_count": null,
   "metadata": {},
   "outputs": [],
   "source": [
    "G_comp  = [G.subgraph(c).copy() for c in nx.connected_components(G)]"
   ]
  },
  {
   "cell_type": "code",
   "execution_count": null,
   "metadata": {},
   "outputs": [],
   "source": []
  },
  {
   "cell_type": "code",
   "execution_count": null,
   "metadata": {},
   "outputs": [],
   "source": []
  },
  {
   "cell_type": "code",
   "execution_count": null,
   "metadata": {},
   "outputs": [],
   "source": [
    "from networkx.algorithms import *"
   ]
  },
  {
   "cell_type": "code",
   "execution_count": null,
   "metadata": {},
   "outputs": [],
   "source": [
    "hc = harmonic_centrality(G)\n",
    "\n",
    "\n",
    "#The closeness centrality (or closeness) of a node is the average length of the shortest path between the node \n",
    "#and all other nodes in the graph. \n",
    "#Thus the more central a node is, the closer it is to all other nodes.\n",
    "\n",
    "cc=closeness_centrality(G)\n",
    "\n",
    "\n",
    "#Degree centrality is the number of links incident upon a node (i.e., the number of ties that a node has)\n",
    "dc=degree_centrality(G)\n",
    "\n",
    "#Betweenness centrality quantifies the number of times a node acts as a bridge along the shortest path \n",
    "#between two other nodes. \n",
    "bc=betweenness_centrality(G)\n",
    "\n",
    "\n",
    "\n",
    "\n",
    "\n",
    "hc = harmonic_centrality(G)\n"
   ]
  },
  {
   "cell_type": "code",
   "execution_count": null,
   "metadata": {},
   "outputs": [],
   "source": []
  },
  {
   "cell_type": "code",
   "execution_count": null,
   "metadata": {},
   "outputs": [],
   "source": [
    "def get_top_keys(dictionary, top):\n",
    "    items = dictionary.items()\n",
    "    items = sorted(items,reverse=True, key=lambda x: x[1])\n",
    "    return list(map(lambda x: x[0], items[:top]))"
   ]
  },
  {
   "cell_type": "code",
   "execution_count": null,
   "metadata": {},
   "outputs": [],
   "source": []
  },
  {
   "cell_type": "code",
   "execution_count": null,
   "metadata": {},
   "outputs": [],
   "source": []
  },
  {
   "cell_type": "code",
   "execution_count": null,
   "metadata": {},
   "outputs": [],
   "source": [
    "import pandas as pd"
   ]
  },
  {
   "cell_type": "code",
   "execution_count": null,
   "metadata": {},
   "outputs": [],
   "source": [
    "nodes = list(G.nodes)\n",
    "counts = nx.number_connected_components(G)\n",
    "output = []\n",
    "for i, node in enumerate(nodes):\n",
    "    subG = G.subgraph(nodes[:i]+nodes[i+1:])\n",
    "    subGCount = nx.number_connected_components(subG)\n",
    "    if subGCount>counts:\n",
    "        output.append((node,1))\n",
    "    else:\n",
    "        output.append((node,0))\n",
    "\n",
    "articulationdf= pd.DataFrame(output,columns=[\"nodeid\",\"articulation\"])\n",
    "artdf=articulationdf.query(\"articulation==1\")"
   ]
  },
  {
   "cell_type": "code",
   "execution_count": null,
   "metadata": {},
   "outputs": [],
   "source": [
    "articulation_color_map=[]\n",
    "for node in G:\n",
    "    #print(node)\n",
    "    if node in artdf.nodeid.values:\n",
    "        articulation_color_map.append('red')\n",
    "    else: \n",
    "        articulation_color_map.append('yellow')  "
   ]
  },
  {
   "cell_type": "code",
   "execution_count": null,
   "metadata": {},
   "outputs": [],
   "source": []
  },
  {
   "cell_type": "code",
   "execution_count": null,
   "metadata": {},
   "outputs": [],
   "source": [
    "\n",
    "\n",
    "\n",
    "\n",
    "\n",
    "pos = nx.kamada_kawai_layout(G,scale=2,dim=2)\n",
    "nx.draw(G, pos, node_color= articulation_color_map,edge_color='b',node_size=100)\n"
   ]
  },
  {
   "cell_type": "code",
   "execution_count": null,
   "metadata": {},
   "outputs": [],
   "source": [
    "\n",
    "\n",
    "closenodes = get_top_keys(cc,10)\n",
    "\n",
    "closeness_color_map=[]\n",
    "for node in G:\n",
    "    #print(node)\n",
    "    if node in closenodes:\n",
    "        closeness_color_map.append('green')\n",
    "    else: \n",
    "        closeness_color_map.append('yellow')  "
   ]
  },
  {
   "cell_type": "code",
   "execution_count": null,
   "metadata": {},
   "outputs": [],
   "source": [
    "nx.draw(G, pos, node_color= closeness_color_map,edge_color='b',node_size=100)"
   ]
  },
  {
   "cell_type": "code",
   "execution_count": null,
   "metadata": {},
   "outputs": [],
   "source": [
    "\n",
    "btwnodes = get_top_keys(cc,10)\n",
    "\n",
    "btwn_color_map=[]\n",
    "for node in G:\n",
    "    #print(node)\n",
    "    if node in btwnodes:\n",
    "        btwn_color_map.append('cyan')\n",
    "    else: \n",
    "        btwn_color_map.append('yellow')  \n",
    "        \n",
    "nx.draw(G, pos, node_color= btwn_color_map,edge_color='b',node_size=100)"
   ]
  },
  {
   "cell_type": "code",
   "execution_count": null,
   "metadata": {},
   "outputs": [],
   "source": []
  },
  {
   "cell_type": "code",
   "execution_count": null,
   "metadata": {},
   "outputs": [],
   "source": [
    "def avg_neigh_degree(g):\n",
    "    avgndeg = {}\n",
    "    for n in g.nodes():\n",
    "        if g.degree(n):\n",
    "            avgndeg[n] = float(sum(g.degree(i) for i in g[n]))/g.degree(n)\n",
    "    return avgndeg"
   ]
  },
  {
   "cell_type": "code",
   "execution_count": null,
   "metadata": {},
   "outputs": [],
   "source": [
    "\n",
    "avgnnodes = get_top_keys(avg_neigh_degree(G),10) \n",
    "avgn_color_map=[]\n",
    "for node in G:\n",
    "    #print(node)\n",
    "    if node in avgnnodes:\n",
    "        avgn_color_map.append('black')\n",
    "    else: \n",
    "        avgn_color_map.append('yellow')  \n",
    "        \n",
    "nx.draw(G, pos, node_color= avgn_color_map,edge_color='b',node_size=100)"
   ]
  },
  {
   "cell_type": "code",
   "execution_count": null,
   "metadata": {},
   "outputs": [],
   "source": [
    "pd.DataFrame.from_dict(bc,orient=\"index\",columns=[\"btwn_centrality\"]).\\\n",
    "reset_index().rename(columns={\"index\": \"node\", \"btwn_centrality\": \"btwn_centrality\"})"
   ]
  },
  {
   "cell_type": "code",
   "execution_count": null,
   "metadata": {},
   "outputs": [],
   "source": []
  },
  {
   "cell_type": "code",
   "execution_count": null,
   "metadata": {},
   "outputs": [],
   "source": []
  },
  {
   "cell_type": "code",
   "execution_count": null,
   "metadata": {},
   "outputs": [],
   "source": []
  },
  {
   "cell_type": "code",
   "execution_count": null,
   "metadata": {},
   "outputs": [],
   "source": []
  },
  {
   "cell_type": "code",
   "execution_count": null,
   "metadata": {},
   "outputs": [],
   "source": []
  },
  {
   "cell_type": "code",
   "execution_count": null,
   "metadata": {},
   "outputs": [],
   "source": []
  },
  {
   "cell_type": "code",
   "execution_count": null,
   "metadata": {},
   "outputs": [],
   "source": []
  },
  {
   "cell_type": "code",
   "execution_count": null,
   "metadata": {},
   "outputs": [],
   "source": []
  },
  {
   "cell_type": "code",
   "execution_count": null,
   "metadata": {},
   "outputs": [],
   "source": []
  }
 ],
 "metadata": {
  "kernelspec": {
   "display_name": "Python 3",
   "language": "python",
   "name": "python3"
  },
  "language_info": {
   "codemirror_mode": {
    "name": "ipython",
    "version": 3
   },
   "file_extension": ".py",
   "mimetype": "text/x-python",
   "name": "python",
   "nbconvert_exporter": "python",
   "pygments_lexer": "ipython3",
   "version": "3.7.6"
  }
 },
 "nbformat": 4,
 "nbformat_minor": 4
}
