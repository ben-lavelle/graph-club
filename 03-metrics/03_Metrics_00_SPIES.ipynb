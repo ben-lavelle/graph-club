{
 "cells": [
  {
   "cell_type": "code",
   "execution_count": null,
   "metadata": {},
   "outputs": [],
   "source": [
    "%matplotlib inline"
   ]
  },
  {
   "cell_type": "code",
   "execution_count": null,
   "metadata": {},
   "outputs": [],
   "source": [
    "import warnings\n",
    "warnings.filterwarnings(\"ignore\")"
   ]
  },
  {
   "cell_type": "code",
   "execution_count": null,
   "metadata": {},
   "outputs": [],
   "source": [
    "from IPython.display import YouTubeVideo\n",
    "\n",
    "YouTubeVideo(id=\"QjzMFdrVeF4\", width=\"100%\")\n"
   ]
  },
  {
   "cell_type": "code",
   "execution_count": null,
   "metadata": {},
   "outputs": [],
   "source": [
    "\n",
    "import pandas as pd\n",
    "url=\"https://gist.githubusercontent.com/mamonu/01c64bc67e83cdd88b4fab5edb017a93/raw/fb2798f8d8d1a00ff58cf1fec3fb1586ec29d857/spies.csv\""
   ]
  },
  {
   "cell_type": "code",
   "execution_count": null,
   "metadata": {},
   "outputs": [],
   "source": [
    "spies = pd.read_csv(url,header=None).rename(columns={1: \"src\", 2: \"dst\"}).drop([0],axis=1)\n",
    "spies.head(100)"
   ]
  },
  {
   "cell_type": "code",
   "execution_count": null,
   "metadata": {},
   "outputs": [],
   "source": []
  },
  {
   "cell_type": "code",
   "execution_count": null,
   "metadata": {},
   "outputs": [],
   "source": [
    "import networkx as nx"
   ]
  },
  {
   "cell_type": "code",
   "execution_count": null,
   "metadata": {},
   "outputs": [],
   "source": [
    "G = nx.from_pandas_edgelist(spies,\"src\",\"dst\")"
   ]
  },
  {
   "cell_type": "code",
   "execution_count": null,
   "metadata": {},
   "outputs": [],
   "source": [
    "\n",
    "pos = nx.kamada_kawai_layout(G)\n",
    "nx.draw(G, pos, node_color= [\"black\"],node_size=100)"
   ]
  },
  {
   "cell_type": "code",
   "execution_count": null,
   "metadata": {},
   "outputs": [],
   "source": [
    "from nxviz import MatrixPlot\n",
    "\n",
    "m = MatrixPlot(G)\n",
    "m.draw()"
   ]
  },
  {
   "cell_type": "code",
   "execution_count": null,
   "metadata": {},
   "outputs": [],
   "source": []
  },
  {
   "cell_type": "code",
   "execution_count": null,
   "metadata": {},
   "outputs": [],
   "source": [
    "from nxviz import CircosPlot\n",
    "\n",
    "c = CircosPlot(G,)\n",
    "c.draw()"
   ]
  },
  {
   "cell_type": "code",
   "execution_count": null,
   "metadata": {},
   "outputs": [],
   "source": []
  },
  {
   "cell_type": "code",
   "execution_count": null,
   "metadata": {},
   "outputs": [],
   "source": [
    "nx.number_connected_components(G)"
   ]
  },
  {
   "cell_type": "code",
   "execution_count": null,
   "metadata": {},
   "outputs": [],
   "source": [
    "G_comp  = [G.subgraph(c).copy() for c in nx.connected_components(G)]"
   ]
  },
  {
   "cell_type": "code",
   "execution_count": null,
   "metadata": {},
   "outputs": [],
   "source": [
    "nx.draw(G_comp[0],pos)"
   ]
  },
  {
   "cell_type": "code",
   "execution_count": null,
   "metadata": {},
   "outputs": [],
   "source": [
    "nx.draw(G_comp[1],pos)"
   ]
  },
  {
   "cell_type": "code",
   "execution_count": null,
   "metadata": {},
   "outputs": [],
   "source": [
    "nx.draw(G_comp[2],pos)"
   ]
  },
  {
   "cell_type": "code",
   "execution_count": null,
   "metadata": {},
   "outputs": [],
   "source": []
  },
  {
   "cell_type": "code",
   "execution_count": null,
   "metadata": {},
   "outputs": [],
   "source": []
  },
  {
   "cell_type": "code",
   "execution_count": null,
   "metadata": {},
   "outputs": [],
   "source": []
  },
  {
   "cell_type": "code",
   "execution_count": null,
   "metadata": {},
   "outputs": [],
   "source": [
    "from networkx.algorithms import *"
   ]
  },
  {
   "cell_type": "code",
   "execution_count": null,
   "metadata": {},
   "outputs": [],
   "source": [
    "hc = harmonic_centrality(G)\n",
    "\n",
    "\n",
    "#The closeness centrality (or closeness) of a node is the average length of the shortest path between the node \n",
    "#and all other nodes in the graph. \n",
    "#Thus the more central a node is, the closer it is to all other nodes.\n",
    "\n",
    "cc=closeness_centrality(G)\n",
    "\n",
    "\n",
    "#Degree centrality is the number of links incident upon a node (i.e., the number of ties that a node has)\n",
    "dc=degree_centrality(G)\n",
    "\n",
    "#Betweenness centrality quantifies the number of times a node acts as a bridge along the shortest path \n",
    "#between two other nodes. \n",
    "bc=betweenness_centrality(G)\n"
   ]
  },
  {
   "cell_type": "code",
   "execution_count": null,
   "metadata": {},
   "outputs": [],
   "source": []
  },
  {
   "cell_type": "code",
   "execution_count": null,
   "metadata": {},
   "outputs": [],
   "source": [
    "def get_top_keys(dictionary, top):\n",
    "    items = dictionary.items()\n",
    "    items = sorted(items,reverse=True, key=lambda x: x[1])\n",
    "    return list(map(lambda x: x[0], items[:top]))"
   ]
  },
  {
   "cell_type": "code",
   "execution_count": null,
   "metadata": {},
   "outputs": [],
   "source": []
  },
  {
   "cell_type": "code",
   "execution_count": null,
   "metadata": {},
   "outputs": [],
   "source": []
  },
  {
   "cell_type": "code",
   "execution_count": null,
   "metadata": {},
   "outputs": [],
   "source": []
  },
  {
   "cell_type": "code",
   "execution_count": null,
   "metadata": {},
   "outputs": [],
   "source": [
    "nodes = list(G.nodes)\n",
    "counts = nx.number_connected_components(G)\n",
    "output = []\n",
    "for i, node in enumerate(nodes):\n",
    "    subG = G.subgraph(nodes[:i]+nodes[i+1:])\n",
    "    subGCount = nx.number_connected_components(subG)\n",
    "    if subGCount>counts:\n",
    "        output.append((node,1))\n",
    "    else:\n",
    "        output.append((node,0))\n",
    "\n",
    "articulationdf= pd.DataFrame(output,columns=[\"nodeid\",\"articulation\"])\n",
    "artdf=articulationdf.query(\"articulation==1\")"
   ]
  },
  {
   "cell_type": "code",
   "execution_count": null,
   "metadata": {},
   "outputs": [],
   "source": [
    "articulation_color_map=[]\n",
    "for node in G:\n",
    "    #print(node)\n",
    "    if node in artdf.nodeid.values:\n",
    "        articulation_color_map.append('red')\n",
    "    else: \n",
    "        articulation_color_map.append('yellow')  "
   ]
  },
  {
   "cell_type": "code",
   "execution_count": null,
   "metadata": {},
   "outputs": [],
   "source": [
    "for index, row in spies.iterrows():\n",
    "    G[row['src']][row['dst']]['color'] = 'b' \n",
    "    \n",
    "edges = G.edges()\n",
    "edgecolors = [G[u][v]['color'] for u,v in edges]"
   ]
  },
  {
   "cell_type": "code",
   "execution_count": null,
   "metadata": {},
   "outputs": [],
   "source": [
    "\n",
    "\n",
    "\n",
    "\n",
    "\n",
    "pos = nx.kamada_kawai_layout(G,scale=2,dim=2)\n",
    "nx.draw(G, pos, node_color= articulation_color_map,edge_color=edgecolors,node_size=100)\n"
   ]
  },
  {
   "cell_type": "code",
   "execution_count": null,
   "metadata": {},
   "outputs": [],
   "source": [
    "\n",
    "\n",
    "closenodes = get_top_keys(cc,10)\n",
    "\n",
    "closeness_color_map=[]\n",
    "for node in G:\n",
    "    #print(node)\n",
    "    if node in closenodes:\n",
    "        closeness_color_map.append('green')\n",
    "    else: \n",
    "        closeness_color_map.append('yellow')  "
   ]
  },
  {
   "cell_type": "code",
   "execution_count": null,
   "metadata": {},
   "outputs": [],
   "source": [
    "nx.draw(G, pos, node_color= closeness_color_map,edge_color=edgecolors,node_size=100)"
   ]
  },
  {
   "cell_type": "code",
   "execution_count": null,
   "metadata": {},
   "outputs": [],
   "source": [
    "\n",
    "btwnodes = get_top_keys(cc,10)\n",
    "\n",
    "btwn_color_map=[]\n",
    "for node in G:\n",
    "    #print(node)\n",
    "    if node in btwnodes:\n",
    "        btwn_color_map.append('cyan')\n",
    "    else: \n",
    "        btwn_color_map.append('yellow')  \n",
    "        \n",
    "nx.draw(G, pos, node_color= btwn_color_map,edge_color=edgecolors,node_size=100)"
   ]
  },
  {
   "cell_type": "code",
   "execution_count": null,
   "metadata": {},
   "outputs": [],
   "source": []
  },
  {
   "cell_type": "code",
   "execution_count": null,
   "metadata": {},
   "outputs": [],
   "source": [
    "def avg_neigh_degree(g):\n",
    "    avgndeg = {}\n",
    "    for n in g.nodes():\n",
    "        if g.degree(n):\n",
    "            avgndeg[n] = float(sum(g.degree(i) for i in g[n]))/g.degree(n)\n",
    "    return avgndeg"
   ]
  },
  {
   "cell_type": "code",
   "execution_count": null,
   "metadata": {},
   "outputs": [],
   "source": [
    "\n",
    "avgnnodes = get_top_keys(avg_neigh_degree(G),10) \n",
    "avgn_color_map=[]\n",
    "for node in G:\n",
    "    #print(node)\n",
    "    if node in avgnnodes:\n",
    "        avgn_color_map.append('black')\n",
    "    else: \n",
    "        avgn_color_map.append('yellow')  \n",
    "        \n",
    "nx.draw(G, pos, node_color= avgn_color_map,edge_color=edgecolors,node_size=100)"
   ]
  },
  {
   "cell_type": "code",
   "execution_count": null,
   "metadata": {},
   "outputs": [],
   "source": [
    "pd.DataFrame.from_dict(bc,orient=\"index\",columns=[\"btwn_centrality\"]).\\\n",
    "reset_index().rename(columns={\"index\": \"node\", \"btwn_centrality\": \"btwn_centrality\"})"
   ]
  },
  {
   "cell_type": "code",
   "execution_count": null,
   "metadata": {},
   "outputs": [],
   "source": []
  },
  {
   "cell_type": "code",
   "execution_count": null,
   "metadata": {},
   "outputs": [],
   "source": [
    "## METRICS and Processing for edges"
   ]
  },
  {
   "cell_type": "code",
   "execution_count": null,
   "metadata": {},
   "outputs": [],
   "source": [
    "bridgesdf = pd.DataFrame(nx.bridges(G),columns=[\"src\",\"dst\"])"
   ]
  },
  {
   "cell_type": "code",
   "execution_count": null,
   "metadata": {},
   "outputs": [],
   "source": [
    "bridgesdf"
   ]
  },
  {
   "cell_type": "code",
   "execution_count": null,
   "metadata": {},
   "outputs": [],
   "source": []
  },
  {
   "cell_type": "code",
   "execution_count": null,
   "metadata": {},
   "outputs": [],
   "source": [
    "eb = nx.edge_betweenness_centrality(G)\n",
    "eb"
   ]
  },
  {
   "cell_type": "code",
   "execution_count": null,
   "metadata": {},
   "outputs": [],
   "source": [
    "\n",
    "srclist = []\n",
    "dstlist = []\n",
    "eblist = []\n",
    "\n",
    "for srcdst, v in eb.items():\n",
    "        # unpack (src,dst) tuple key\n",
    "        src, dst = srcdst\n",
    "\n",
    "        srclist.append(src)\n",
    "        dstlist.append(dst)\n",
    "        eblist.append(v)\n",
    "\n",
    "ebdf=pd.DataFrame(zip(srclist, dstlist, eblist), columns=[\"src\", \"dst\", \"eb\"])\n",
    "ebdf"
   ]
  },
  {
   "cell_type": "code",
   "execution_count": null,
   "metadata": {},
   "outputs": [],
   "source": [
    "ebvalues=ebdf.eb.values\n",
    "maxeb=max(ebvalues)\n",
    "mineb=min(ebvalues)\n",
    "zvalues = [float(x-mineb)/(maxeb-mineb)*10 for x in ebvalues]\n",
    "print(max(zvalues),min(zvalues))\n"
   ]
  },
  {
   "cell_type": "code",
   "execution_count": null,
   "metadata": {},
   "outputs": [],
   "source": [
    "nx.draw(G, pos, node_color= avgn_color_map,edge_color='grey',node_size=50,width=zvalues)"
   ]
  },
  {
   "cell_type": "code",
   "execution_count": null,
   "metadata": {},
   "outputs": [],
   "source": [
    "\n",
    "\n"
   ]
  },
  {
   "cell_type": "code",
   "execution_count": null,
   "metadata": {},
   "outputs": [],
   "source": []
  },
  {
   "cell_type": "code",
   "execution_count": null,
   "metadata": {},
   "outputs": [],
   "source": []
  },
  {
   "cell_type": "code",
   "execution_count": null,
   "metadata": {},
   "outputs": [],
   "source": []
  },
  {
   "cell_type": "code",
   "execution_count": null,
   "metadata": {},
   "outputs": [],
   "source": []
  }
 ],
 "metadata": {
  "kernelspec": {
   "display_name": "Python 3",
   "language": "python",
   "name": "python3"
  },
  "language_info": {
   "codemirror_mode": {
    "name": "ipython",
    "version": 3
   },
   "file_extension": ".py",
   "mimetype": "text/x-python",
   "name": "python",
   "nbconvert_exporter": "python",
   "pygments_lexer": "ipython3",
   "version": "3.7.6"
  }
 },
 "nbformat": 4,
 "nbformat_minor": 4
}
